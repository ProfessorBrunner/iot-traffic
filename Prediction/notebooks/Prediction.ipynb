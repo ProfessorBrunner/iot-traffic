{
 "cells": [
  {
   "cell_type": "markdown",
   "metadata": {},
   "source": [
    "#Prediction for IoT Traffic Simulation\n",
    "\n",
    "###Author: Neeraj Asthana (under Professor Robert Brunner)\n",
    "\n",
    "###Collaborators: Anchal, Rishabh, Vaishali\n",
    "\n",
    "___\n",
    "\n",
    "##Problem Statement\n",
    "Recent advances in sensor technology, infrastructure for estimating temperature, pressure, humidity, precipitation, etc. are readily available on roadways to predict traffic states. The goal and novelty of our project is to combine streamed GPS traffic estimation algorithms with dynamic road sensor data to accurately predict traffic states and efficiently advise and direct drivers."
   ]
  },
  {
   "cell_type": "markdown",
   "metadata": {},
   "source": [
    "##Time Decay Model for Speed Estimation\n",
    "\n",
    "Used to estimate Average Road Speeds for specific segments of road by weighting speed observations.\n",
    "\n",
    "####Observations\n",
    "* Higher Speeds are more valuable the lower speeds\n",
    "* Recent Obersvations are favored over historical observations\n",
    "* Each data point will be of the form ($t_i, v_i, l_i$) or (time, velocity, location)\n",
    "\n",
    "\n",
    "####Time Weight\n",
    "An observation's timestamp ($t_i$) is weighted  by: $w(i,t) = \\frac{f(t_i - L)}{f(t - L)}$\n",
    "\n",
    "*f* is some positive, monotonic, non-decreasing function\n",
    "\n",
    "*L* is some Landmark time (starting time)\n",
    "\n",
    "*t* is the most recent timestamp\n",
    "\n",
    "####Velocity Weight\n",
    "An observation's velocity ($v_i$) is weighted  by: $w^v (i) = g (v_i)$\n",
    "\n",
    "*g* is some positive, monotonic, non-decreasing function\n",
    "\n",
    "####Combination of Weights\n",
    "Weight combinations of the time and velocity weights:\n",
    "\n",
    "$w^* (i,t) = w(i,t) \\cdot w^v (i) = \\frac{f(t_i - L)}{f(t - L)} \\cdot g(v_i)$\n",
    "\n",
    "####Aggregating observatoins\n",
    "Calculates average velocity of a road segment (*r*) by aggregating most recent and historical observations. In order compute these values efficiently and to be able to update values, I will persist 2 quantities in Spark , $X,Y$ which will be then be used to calulate $\\overline{V}(r) = \\frac{X}{Y}$\n",
    "\n",
    "$$X = \\sum_{n=1}^{m} f(t_i - L) \\cdot g(v_i) \\cdot v_i$$         \n",
    "\n",
    "$$Y = \\sum_{n=1}^{m} f(t_i - L) \\cdot g(v_i)$$\n"
   ]
  }
 ],
 "metadata": {
  "kernelspec": {
   "display_name": "Python 2",
   "language": "python",
   "name": "python2"
  },
  "language_info": {
   "codemirror_mode": {
    "name": "ipython",
    "version": 2
   },
   "file_extension": ".py",
   "mimetype": "text/x-python",
   "name": "python",
   "nbconvert_exporter": "python",
   "pygments_lexer": "ipython2",
   "version": "2.7.6"
  }
 },
 "nbformat": 4,
 "nbformat_minor": 0
}
